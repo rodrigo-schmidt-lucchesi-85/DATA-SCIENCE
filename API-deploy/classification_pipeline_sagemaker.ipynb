{
 "cells": [
  {
   "cell_type": "code",
   "execution_count": null,
   "metadata": {},
   "outputs": [],
   "source": [
    "import sagemaker\n",
    "from sagemaker import get_execution_role\n",
    "\n",
    "import numpy as np\n",
    "import pandas as pandas\n",
    "\n",
    "import boto3\n",
    "import re"
   ]
  },
  {
   "cell_type": "code",
   "execution_count": null,
   "metadata": {},
   "outputs": [],
   "source": [
    "# UPLOAD DATA TO S3\n",
    "\n",
    "bucket_name = 's3...'\n",
    "\n",
    "train_data = r'path'\n",
    "val_data = r'path'\n",
    "\n",
    "s3_model_ouput_locaton = f's3://{bucket_name}/path to model'\n",
    "s3_training_file_location = f's3://{bucket_name}/{train_data}'\n",
    "s3_validation_file_location = f's3://{bucket_name}/{val_data}'\n",
    "\n",
    "print(s3_model_ouput_locaton)\n",
    "print(s3_training_file_location)\n",
    "print(s3_validation_file_location)"
   ]
  },
  {
   "cell_type": "code",
   "execution_count": null,
   "metadata": {},
   "outputs": [],
   "source": [
    "# Write to s3\n",
    "def write_to_s3(filename, bucket, key):\n",
    "    with open(filename,'rb') as f:\n",
    "        return boto3.Session().resource('s3').Bucket(bucket).Object(key).upload_fileobj(f)"
   ]
  },
  {
   "cell_type": "code",
   "execution_count": null,
   "metadata": {},
   "outputs": [],
   "source": [
    "write_to_s3(\n",
    "    'train.csv',\n",
    "    bucket_name,\n",
    "    val_data + 'train.csv'\n",
    ")\n",
    "\n",
    "write_to_s3(\n",
    "    'test.csv',\n",
    "    bucket_name,\n",
    "    val_data + 'test.csv'\n",
    ")"
   ]
  },
  {
   "cell_type": "code",
   "execution_count": null,
   "metadata": {},
   "outputs": [],
   "source": [
    "sess = sagemaker.Session()\n",
    "role = get_execution_role() #IAM role\n",
    "\n",
    "container = sagemaker.amazon.amazon_estimator.get_mage_uri(\n",
    "    sess.boto_region_name,\n",
    "    \"xgboost\",\n",
    "    \"latest\"\n",
    ")\n",
    "\n",
    "print(f' Sagemaker XGBoost Info : \\n{container}  ({sess.boto_region_name})')"
   ]
  },
  {
   "cell_type": "code",
   "execution_count": null,
   "metadata": {},
   "outputs": [],
   "source": [
    "# Building the model\n",
    "\n",
    "estimator = sagemaker.estimator.Estimator(\n",
    "    container,\n",
    "    role,\n",
    "    train_instance_count=1,\n",
    "    train_instance_type='ml.m4.xlarge',\n",
    "    output_path=s3_model_output_location,\n",
    "    sagemaker_session=sess,\n",
    "    base_job_name='v1-xgboost-bcancer'\n",
    ")\n",
    "\n",
    "estimator.set_hyperparameters(\n",
    "    max_depth=3,\n",
    "    objective=\"binary:logistic\",\n",
    "    num_round=500\n",
    ")\n",
    "\n",
    "estimator.hyperparameters() # comes from local machine\n"
   ]
  },
  {
   "cell_type": "code",
   "execution_count": null,
   "metadata": {},
   "outputs": [],
   "source": [
    "# specify the files for training and validation\n",
    "\n",
    "training_input_config = sagemaker.session.s3.input(\n",
    "    s3_data=s3_training_file_location,\n",
    "    content_type='csv',\n",
    "    s3_data_type='S3Prefix'\n",
    ")\n",
    "\n",
    "validation_input_config = sagemaker.session.s3.input(\n",
    "    s3_data=s3_validation_file_location,\n",
    "    content_type='csv',\n",
    "    s3_data_type='S3Prefix'\n",
    ")\n",
    "\n",
    "data_channels = {\n",
    "    'train':training_input_config,\n",
    "    'validation':validation_input_config\n",
    "}"
   ]
  },
  {
   "cell_type": "code",
   "execution_count": null,
   "metadata": {},
   "outputs": [],
   "source": [
    "print(training_input_config.config)\n",
    "print(validation_input_config.config)"
   ]
  },
  {
   "cell_type": "code",
   "execution_count": null,
   "metadata": {},
   "outputs": [],
   "source": [
    "estimator.fit(data_channels)\n",
    "\n",
    "predictor = estimator.deploy(\n",
    "    initial_instance_count=1, # Load balance\n",
    "    instance_type='ml.m4.xlarge',\n",
    "    endpoint_name = 'v2-xgboost-bcancer'\n",
    ")"
   ]
  },
  {
   "cell_type": "code",
   "execution_count": null,
   "metadata": {},
   "outputs": [],
   "source": [
    "from sagemaker.predictor import csv_serializer, json_serializer\n",
    "predictor.serializer = csv_serializer\n",
    "predictor.deserializer = None\n",
    "predictor.content_type = 'text/csv'"
   ]
  },
  {
   "cell_type": "code",
   "execution_count": null,
   "metadata": {},
   "outputs": [],
   "source": [
    "# get a realtime endpoint \n",
    "enpoint_name = 'v2-xgboost-bcancer'\n",
    "predictor = sagemaker.predictor.RealTimePredictor(endpoints=enpoint_name)"
   ]
  }
 ],
 "metadata": {
  "language_info": {
   "codemirror_mode": {
    "name": "ipython",
    "version": 3
   },
   "file_extension": ".py",
   "mimetype": "text/x-python",
   "name": "python",
   "nbconvert_exporter": "python",
   "pygments_lexer": "ipython3",
   "version": "3.7.6-final"
  },
  "orig_nbformat": 2,
  "kernelspec": {
   "name": "python3",
   "display_name": "Python 3"
  }
 },
 "nbformat": 4,
 "nbformat_minor": 2
}